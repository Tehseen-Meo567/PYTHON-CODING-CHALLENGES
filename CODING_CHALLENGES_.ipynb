{
  "nbformat": 4,
  "nbformat_minor": 0,
  "metadata": {
    "colab": {
      "provenance": []
    },
    "kernelspec": {
      "name": "python3",
      "display_name": "Python 3"
    },
    "language_info": {
      "name": "python"
    }
  },
  "cells": [
    {
      "cell_type": "markdown",
      "source": [
        "\n",
        "## ***TASKS/CODING CHALLENGES***\n",
        "\n"
      ],
      "metadata": {
        "id": "zihuLOoCIJwr"
      }
    },
    {
      "cell_type": "markdown",
      "source": [
        "\n",
        "## 1.   **Intro to Python**\n",
        "\n"
      ],
      "metadata": {
        "id": "BSYNcsPIK4P1"
      }
    },
    {
      "cell_type": "markdown",
      "source": [
        "# **TASK 1: Add two numbers**\n",
        "\n"
      ],
      "metadata": {
        "id": "qRfz-oiGIsAQ"
      }
    },
    {
      "cell_type": "code",
      "source": [
        "def main():\n",
        "    print(\"Let's Add Two Numbers!\")\n",
        "    num1 : str = input(\"Enter first number: \")\n",
        "    num1 : int = int(num1)\n",
        "    num2  : str = input(\"Enter second number: \")\n",
        "    num2 : int = int(num2)\n",
        "    total : int = num1 + num2\n",
        "    print(\"Sum = \" + str(total))\n",
        "if __name__ == '__main__':\n",
        "    main()"
      ],
      "metadata": {
        "id": "FuFq7fSQKL1e",
        "colab": {
          "base_uri": "https://localhost:8080/"
        },
        "outputId": "00245e57-4236-4bfc-d1eb-f2685ec6006a"
      },
      "execution_count": 3,
      "outputs": [
        {
          "output_type": "stream",
          "name": "stdout",
          "text": [
            "Let's Add Two Numbers!\n",
            "Enter first number: 1\n",
            "Enter second number: 1\n",
            "Sum = 2\n"
          ]
        }
      ]
    },
    {
      "cell_type": "markdown",
      "source": [
        "# **TASK 2: Agreement Bot**"
      ],
      "metadata": {
        "id": "LvJ15w41JIbV"
      }
    },
    {
      "cell_type": "code",
      "source": [
        "# Ask the user for their favorite animal\n",
        "favorite_animal = input(\"What's your favorite animal? \")\n",
        "\n",
        "# Respond with the user's favorite animal\n",
        "print(f\"My favorite animal is also {favorite_animal}!\")\n"
      ],
      "metadata": {
        "id": "QcpL-cF4KNk1"
      },
      "execution_count": null,
      "outputs": []
    },
    {
      "cell_type": "markdown",
      "source": [
        "# **TASK 3: Fahrenheit to Celsius**"
      ],
      "metadata": {
        "id": "gr_cmRnyJUnt"
      }
    },
    {
      "cell_type": "code",
      "source": [
        "# Get temperature in Fahrenheit from the user\n",
        "degrees_fahrenheit = float(input(\"Enter temperature in Fahrenheit: \"))\n",
        "\n",
        "# Convert to Celsius\n",
        "degrees_celsius = (degrees_fahrenheit - 32) * 5.0 / 9.0\n",
        "\n",
        "# Display the result\n",
        "print(f\"Temperature: {degrees_fahrenheit}F = {degrees_celsius}C\")\n"
      ],
      "metadata": {
        "id": "_6btjpdCKOTy"
      },
      "execution_count": null,
      "outputs": []
    },
    {
      "cell_type": "markdown",
      "source": [
        "# **TASK 4: How old are they**"
      ],
      "metadata": {
        "id": "iNINvoIrKW6T"
      }
    },
    {
      "cell_type": "code",
      "source": [
        "# Define each person's age based on the given relationships\n",
        "anton_age = 21\n",
        "beth_age = anton_age + 6\n",
        "chen_age = beth_age + 20\n",
        "drew_age = chen_age + anton_age\n",
        "ethan_age = chen_age\n",
        "\n",
        "# Print each person's age\n",
        "print(f\"Anton is {anton_age}\")\n",
        "print(f\"Beth is {beth_age}\")\n",
        "print(f\"Chen is {chen_age}\")\n",
        "print(f\"Drew is {drew_age}\")\n",
        "print(f\"Ethan is {ethan_age}\")\n"
      ],
      "metadata": {
        "id": "fVWJaAg_Kgaq"
      },
      "execution_count": null,
      "outputs": []
    },
    {
      "cell_type": "markdown",
      "source": [
        "# **TASK 5: Traingle Perimeter**"
      ],
      "metadata": {
        "id": "SfJPktd8Kgwb"
      }
    },
    {
      "cell_type": "code",
      "source": [
        "def main():\n",
        "    # Get the 3 side lengths of the triangle\n",
        "    side1: float = float(input(\"What is the length of side 1? \"))\n",
        "    side2: float = float(input(\"What is the length of side 2? \"))\n",
        "    side3: float = float(input(\"What is the length of side 3? \"))\n",
        "\n",
        "    # Print out the perimeter (sum of the sides) of the triangle, make sure to cast it to a str when concatenating!\n",
        "    print(\"The perimeter of the triangle is \" + str(side1 + side2 + side3))\n",
        "\n",
        "\n",
        "# There is no need to edit code beyond this point\n",
        "\n",
        "if __name__ == '__main__':\n",
        "    main()"
      ],
      "metadata": {
        "id": "bfu3PMpqKtk5"
      },
      "execution_count": null,
      "outputs": []
    },
    {
      "cell_type": "markdown",
      "source": [
        "# **TASK 6: Square numbers**"
      ],
      "metadata": {
        "id": "zY-aWFgRKn9u"
      }
    },
    {
      "cell_type": "code",
      "source": [
        "\n",
        "def main():\n",
        "    num: float = float(input(\"Type a number to see its square: \")) # Make sure to cast the input to a float so we can do math with it!\n",
        "    print(str(num) + \" squared is \" + str(num ** 2)) # num * num is equivalent to num ** 2. The ** operator raises something to a power!\n",
        "\n",
        "\n",
        "# There is no need to edit code beyond this point\n",
        "\n",
        "if __name__ == '__main__':\n",
        "    main()\n"
      ],
      "metadata": {
        "id": "3XSjiQUHLCuQ"
      },
      "execution_count": null,
      "outputs": []
    },
    {
      "cell_type": "markdown",
      "source": [
        "## 2. **Expressions**"
      ],
      "metadata": {
        "id": "-Rc8X6RWLDNw"
      }
    },
    {
      "cell_type": "markdown",
      "source": [
        "# **TASK 1: Dicesimulator**"
      ],
      "metadata": {
        "id": "suYno37wKs-s"
      }
    },
    {
      "cell_type": "code",
      "source": [],
      "metadata": {
        "id": "ABJ9D6W5Kspf"
      },
      "execution_count": null,
      "outputs": []
    },
    {
      "cell_type": "markdown",
      "source": [
        "# **TASK 2: E= mc^2**"
      ],
      "metadata": {
        "id": "YTfuJpm-LQe9"
      }
    },
    {
      "cell_type": "code",
      "source": [],
      "metadata": {
        "id": "SFeAxqX-LX19"
      },
      "execution_count": null,
      "outputs": []
    },
    {
      "cell_type": "markdown",
      "source": [
        "# **TASK 3: Feet To Inches**"
      ],
      "metadata": {
        "id": "oFst8yesLYs8"
      }
    },
    {
      "cell_type": "code",
      "source": [],
      "metadata": {
        "id": "4f4kM7hvLgAt"
      },
      "execution_count": null,
      "outputs": []
    },
    {
      "cell_type": "markdown",
      "source": [
        "# **TASK 4: Pythagoreus Theorem**"
      ],
      "metadata": {
        "id": "jE_hNPr9Lg1_"
      }
    },
    {
      "cell_type": "markdown",
      "source": [
        "# **TASK 5: Reminder Division**"
      ],
      "metadata": {
        "id": "9B8J6MCXLpK9"
      }
    },
    {
      "cell_type": "code",
      "source": [],
      "metadata": {
        "id": "lsM69UkqLtrl"
      },
      "execution_count": null,
      "outputs": []
    },
    {
      "cell_type": "markdown",
      "source": [
        "# **TASK 6: Roll Dice**"
      ],
      "metadata": {
        "id": "gtA9DCRHLuBR"
      }
    },
    {
      "cell_type": "code",
      "source": [],
      "metadata": {
        "id": "jnD-fw8HLy74"
      },
      "execution_count": null,
      "outputs": []
    },
    {
      "cell_type": "markdown",
      "source": [
        "# **TASK 7: Second in Year**"
      ],
      "metadata": {
        "id": "cwdjeFuXLzOn"
      }
    },
    {
      "cell_type": "code",
      "source": [],
      "metadata": {
        "id": "gozrU31SMAUi"
      },
      "execution_count": null,
      "outputs": []
    },
    {
      "cell_type": "markdown",
      "source": [
        "# **TASK 8: Tiny mad lib**"
      ],
      "metadata": {
        "id": "sdLw1G-IL6es"
      }
    },
    {
      "cell_type": "code",
      "source": [],
      "metadata": {
        "id": "BuVDgXPKL6Oe"
      },
      "execution_count": null,
      "outputs": []
    },
    {
      "cell_type": "markdown",
      "source": [
        "## 3. **Lists**"
      ],
      "metadata": {
        "id": "JYcL6gfrMBI_"
      }
    },
    {
      "cell_type": "markdown",
      "source": [
        "## **TASK 01: add_many_number**"
      ],
      "metadata": {
        "id": "WGXv8n2MMaPL"
      }
    },
    {
      "cell_type": "markdown",
      "source": [
        "## **TASK 02: double_list**\n"
      ],
      "metadata": {
        "id": "ed1yBLptRZS8"
      }
    },
    {
      "cell_type": "markdown",
      "source": [
        "## **TASK 03: erase_canvas**\n"
      ],
      "metadata": {
        "id": "kWNcUkOgRdMO"
      }
    },
    {
      "cell_type": "markdown",
      "source": [
        "## **TASK 04: flowing_with_data_structures**"
      ],
      "metadata": {
        "id": "cnsUs2SHRe_R"
      }
    },
    {
      "cell_type": "markdown",
      "source": [
        "## **TASK 05:get_first_element**\n"
      ],
      "metadata": {
        "id": "nK6IrKSpRicg"
      }
    },
    {
      "cell_type": "markdown",
      "source": [
        "## **TASK 06:get_last_element**\n"
      ],
      "metadata": {
        "id": "3XxUF7yMRkgX"
      }
    },
    {
      "cell_type": "markdown",
      "source": [
        "## **TASK 07:get_list**\n"
      ],
      "metadata": {
        "id": "NZFnS2AdRmHD"
      }
    },
    {
      "cell_type": "markdown",
      "source": [
        "## **TASK 08:shorten**"
      ],
      "metadata": {
        "id": "KTPIdgxuRnyS"
      }
    },
    {
      "cell_type": "markdown",
      "source": [
        "## 4. **IF STATEMENTS**"
      ],
      "metadata": {
        "id": "jATNpF7-NELr"
      }
    },
    {
      "cell_type": "markdown",
      "source": [
        "**TASK 1 : PRINT EVENTS**"
      ],
      "metadata": {
        "id": "91xHOw02NQUr"
      }
    },
    {
      "cell_type": "markdown",
      "source": [
        "**TASK 2 : INTERNATIONAL VOTING AGE**"
      ],
      "metadata": {
        "id": "DRvaXhQMNvkm"
      }
    },
    {
      "cell_type": "markdown",
      "source": [
        "**TASK 3: LEAP YEAR**"
      ],
      "metadata": {
        "id": "nf6GkWr_NzSu"
      }
    },
    {
      "cell_type": "markdown",
      "source": [
        "**TASK 4: TALL ENOUGH TO RIDE**"
      ],
      "metadata": {
        "id": "vg63JTLlN4gx"
      }
    },
    {
      "cell_type": "code",
      "source": [],
      "metadata": {
        "id": "Z3OW_c0wN3Od"
      },
      "execution_count": null,
      "outputs": []
    },
    {
      "cell_type": "markdown",
      "source": [
        "**TASK 5 : RANDOM NUMBERS**"
      ],
      "metadata": {
        "id": "0zpsUlY_N3oE"
      }
    },
    {
      "cell_type": "markdown",
      "source": [
        "## 5. **DICTIONARIES**"
      ],
      "metadata": {
        "id": "WuYnObBUN_Yp"
      }
    },
    {
      "cell_type": "markdown",
      "source": [
        "## **TASK 1 : COUNT NUMBERS**"
      ],
      "metadata": {
        "id": "ywxJvI-kOZ9S"
      }
    },
    {
      "cell_type": "markdown",
      "source": [
        "## **TASK 2 : PHONEBOOK**"
      ],
      "metadata": {
        "id": "ZTDANmnuOnXN"
      }
    },
    {
      "cell_type": "markdown",
      "source": [
        "## **TASK 3 : POP UP SHOW**"
      ],
      "metadata": {
        "id": "7Ni-PWUTOt4m"
      }
    },
    {
      "cell_type": "markdown",
      "source": [
        "## **TASK 4 : POWERFUL PASSWORDS**"
      ],
      "metadata": {
        "id": "NWb-CftxO66O"
      }
    },
    {
      "cell_type": "markdown",
      "source": [
        "## 6. **LOOP CONTROL FLOWS**"
      ],
      "metadata": {
        "id": "6or5-fB6OF2c"
      }
    },
    {
      "cell_type": "markdown",
      "source": [
        "00_guess_my_number.md\n",
        "01_fibonacci.md\n",
        "02_print_events.md\n",
        "03_wholesome_machine.md\n",
        "04_liftoff.md\n",
        "05_double_it.md"
      ],
      "metadata": {
        "id": "a4GZOBQ8PJhp"
      }
    },
    {
      "cell_type": "code",
      "source": [],
      "metadata": {
        "id": "c83PHP8iPoaF"
      },
      "execution_count": null,
      "outputs": []
    },
    {
      "cell_type": "code",
      "source": [],
      "metadata": {
        "id": "jTIuoYRfPoWy"
      },
      "execution_count": null,
      "outputs": []
    },
    {
      "cell_type": "markdown",
      "source": [
        "**TASK 1: GUESS MY NUMBER**\n"
      ],
      "metadata": {
        "id": "V1T-nVTDPPJ2"
      }
    },
    {
      "cell_type": "markdown",
      "source": [
        "**TASK 2: FIBONACCI**\n"
      ],
      "metadata": {
        "id": "eB70zI9WPqWL"
      }
    },
    {
      "cell_type": "markdown",
      "source": [
        "**TASK 3: PRINT EVENTS**\n"
      ],
      "metadata": {
        "id": "R7r_W3C1PsMh"
      }
    },
    {
      "cell_type": "markdown",
      "source": [
        "**TASK 4: WHOLESOME MACHINE**\n"
      ],
      "metadata": {
        "id": "vNPOZ7KrPt__"
      }
    },
    {
      "cell_type": "markdown",
      "source": [
        "**TASK 5: DOUBLE IT**"
      ],
      "metadata": {
        "id": "n-GjSgbkPv8R"
      }
    },
    {
      "cell_type": "markdown",
      "source": [
        "## 7.**FUNCTIONS**"
      ],
      "metadata": {
        "id": "y3UEZxTYOKNS"
      }
    },
    {
      "cell_type": "markdown",
      "source": [
        "**TASK 1: AVERAGES**\n"
      ],
      "metadata": {
        "id": "wBeBuRFXPn-b"
      }
    },
    {
      "cell_type": "markdown",
      "source": [
        "**TASK 2: CHOATIC COUNTING**\n"
      ],
      "metadata": {
        "id": "S_GfDazQQmpw"
      }
    },
    {
      "cell_type": "markdown",
      "source": [
        "**TASK 3: COUNT EVEN**\n"
      ],
      "metadata": {
        "id": "qUUMmFWLQoYy"
      }
    },
    {
      "cell_type": "markdown",
      "source": [
        "**TASK 4: DOUBLE**\n"
      ],
      "metadata": {
        "id": "AKxLNobaQqhT"
      }
    },
    {
      "cell_type": "markdown",
      "source": [
        "**TASK 5: GET NAME**\n"
      ],
      "metadata": {
        "id": "L48P-WJuQsHW"
      }
    },
    {
      "cell_type": "markdown",
      "source": [
        "**TASK 6: IS ODD**\n"
      ],
      "metadata": {
        "id": "IFVr2xPgQuH5"
      }
    },
    {
      "cell_type": "markdown",
      "source": [
        "**TASK 7: PRINT DIVISOR**\n"
      ],
      "metadata": {
        "id": "QX-4rH1gQvko"
      }
    },
    {
      "cell_type": "markdown",
      "source": [
        "**TASK 8: PRINT MULTIPLE**\n"
      ],
      "metadata": {
        "id": "V-5XGIurQw94"
      }
    },
    {
      "cell_type": "markdown",
      "source": [
        "**TASK 9: SENTENCE GENERATOR**\n"
      ],
      "metadata": {
        "id": "CTuORoQKQyeq"
      }
    },
    {
      "cell_type": "markdown",
      "source": [
        "**TASK 10: PRINT ONES DIGIT**"
      ],
      "metadata": {
        "id": "8cvJv_GDQz2I"
      }
    },
    {
      "cell_type": "markdown",
      "source": [
        "## 8. **INFORMATION FLOW**"
      ],
      "metadata": {
        "id": "OzocPsHAOPMl"
      }
    },
    {
      "cell_type": "markdown",
      "source": [
        "**TASK 1: CHOOSING RETURNS**\n"
      ],
      "metadata": {
        "id": "Jra4yKJ5Q1rP"
      }
    },
    {
      "cell_type": "markdown",
      "source": [
        "**TASK 2: GREETINGS**\n"
      ],
      "metadata": {
        "id": "i4uKKiF4RONf"
      }
    },
    {
      "cell_type": "markdown",
      "source": [
        "**TASK 3: IN RANGE**\n"
      ],
      "metadata": {
        "id": "g_xWI3N1RPqA"
      }
    },
    {
      "cell_type": "markdown",
      "source": [
        "**TASK 4: IN STOCK**\n"
      ],
      "metadata": {
        "id": "MncndpiURRP-"
      }
    },
    {
      "cell_type": "markdown",
      "source": [
        "**TASK 5: MULTIPLE RETURNS**\n"
      ],
      "metadata": {
        "id": "cpppD__GRSp5"
      }
    },
    {
      "cell_type": "markdown",
      "source": [
        "**TASK 6: SUBTRACT**"
      ],
      "metadata": {
        "id": "BuNKirvoRT-z"
      }
    }
  ]
}